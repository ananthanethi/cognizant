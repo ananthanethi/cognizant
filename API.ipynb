{
 "cells": [
  {
   "cell_type": "code",
   "execution_count": 1,
   "metadata": {},
   "outputs": [
    {
     "name": "stdout",
     "output_type": "stream",
     "text": [
      "{'message': 'success', 'timestamp': 1629392762, 'iss_position': {'longitude': '-160.9403', 'latitude': '36.0973'}}\n"
     ]
    }
   ],
   "source": [
    "import requests\n",
    "\n",
    "response = requests.get(url=\"http://api.open-notify.org/iss-now.json\")\n",
    "data = response.json()\n",
    "#print(data)\n",
    "longitude =data['iss_position']['longitude']\n",
    "latitude  =data['iss_position']['longitude']\n",
    "timestamp =data['timestamp']\n",
    "print(data)"
   ]
  },
  {
   "cell_type": "code",
   "execution_count": null,
   "metadata": {},
   "outputs": [],
   "source": []
  },
  {
   "cell_type": "code",
   "execution_count": 2,
   "metadata": {},
   "outputs": [],
   "source": [
    "import sqlite3\n",
    "from sqlite3 import Error\n",
    "\n",
    "\n",
    "def create_conn():\n",
    "   \n",
    "    conn = None\n",
    "    try:\n",
    "        conn = sqlite3.connect('example.db')\n",
    "        cur = conn.cursor()\n",
    "        cur.execute('''CREATE TABLE iss\n",
    "               (longitude real, latitude real, timestamp text)''')\n",
    "    except Error as e:\n",
    "        print(e)\n",
    "\n",
    "    return conn"
   ]
  },
  {
   "cell_type": "code",
   "execution_count": 3,
   "metadata": {},
   "outputs": [],
   "source": [
    "#Inserting iss data into table \n",
    "def create_iss(conn, iss):\n",
    "    \"\"\"\n",
    "   Enter the iss data into the table\n",
    "    \"\"\"\n",
    "    sql = ''' INSERT INTO iss(longitude,latitude,timestamp)\n",
    "              VALUES(?,?,?) '''\n",
    "    cur = conn.cursor()\n",
    "    cur.execute(sql, iss)\n",
    "    conn.commit()\n",
    "    return cur.lastrowid"
   ]
  },
  {
   "cell_type": "code",
   "execution_count": null,
   "metadata": {},
   "outputs": [],
   "source": [
    "\n",
    "       "
   ]
  },
  {
   "cell_type": "code",
   "execution_count": null,
   "metadata": {},
   "outputs": [],
   "source": []
  },
  {
   "cell_type": "code",
   "execution_count": null,
   "metadata": {},
   "outputs": [],
   "source": []
  },
  {
   "cell_type": "code",
   "execution_count": 4,
   "metadata": {},
   "outputs": [
    {
     "name": "stdout",
     "output_type": "stream",
     "text": [
      "table iss already exists\n"
     ]
    }
   ],
   "source": [
    "def main():\n",
    "   \n",
    "\n",
    "    # create a database connection\n",
    "    conn = create_conn()\n",
    "    with conn:\n",
    "        # create a new iss entry\n",
    "        iss = (longitude, latitude, timestamp)\n",
    "        create_iss(conn, iss)\n",
    "        \n",
    "\n",
    "\n",
    "\n",
    "if __name__ == '__main__':\n",
    "    main()\n",
    "    \n",
    "    "
   ]
  },
  {
   "cell_type": "code",
   "execution_count": null,
   "metadata": {},
   "outputs": [
    {
     "name": "stdout",
     "output_type": "stream",
     "text": [
      " * Serving Flask app \"__main__\" (lazy loading)\n",
      " * Environment: production\n",
      "   WARNING: This is a development server. Do not use it in a production deployment.\n",
      "   Use a production WSGI server instead.\n",
      " * Debug mode: off\n"
     ]
    },
    {
     "name": "stderr",
     "output_type": "stream",
     "text": [
      " * Running on http://127.0.0.1:5000/ (Press CTRL+C to quit)\n",
      "127.0.0.1 - - [19/Aug/2021 22:36:23] \"\u001b[37mGET / HTTP/1.1\u001b[0m\" 200 -\n"
     ]
    },
    {
     "name": "stdout",
     "output_type": "stream",
     "text": [
      "table iss already exists\n"
     ]
    }
   ],
   "source": [
    "from flask import Flask, request,render_template\n",
    "app = Flask(__name__,template_folder='templates')\n",
    "@app.route('/')  \n",
    "\n",
    "\n",
    "def select_data():\n",
    "    \"\"\"\n",
    "   Select the data from iss table \n",
    "    \"\"\"\n",
    "    database = \"example.db\"\n",
    "    cur = create_conn().cursor()\n",
    "    cur.execute(\"SELECT * FROM iss\")\n",
    "\n",
    "    rows = cur.fetchall()\n",
    "    return render_template('iss.html',value =rows)\n",
    "\n",
    "\n",
    "if __name__ == '__main__':\n",
    "    app.run()"
   ]
  },
  {
   "cell_type": "code",
   "execution_count": null,
   "metadata": {},
   "outputs": [],
   "source": []
  }
 ],
 "metadata": {
  "kernelspec": {
   "display_name": "Python 3",
   "language": "python",
   "name": "python3"
  },
  "language_info": {
   "codemirror_mode": {
    "name": "ipython",
    "version": 3
   },
   "file_extension": ".py",
   "mimetype": "text/x-python",
   "name": "python",
   "nbconvert_exporter": "python",
   "pygments_lexer": "ipython3",
   "version": "3.7.6"
  }
 },
 "nbformat": 4,
 "nbformat_minor": 4
}
