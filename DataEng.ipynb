{
 "cells": [
  {
   "cell_type": "code",
   "execution_count": 24,
   "metadata": {},
   "outputs": [
    {
     "name": "stdout",
     "output_type": "stream",
     "text": [
      "Enter the directory \n",
      "D:/DataEngineer.zip\n",
      "['DataEngineer/Asia Prod 1.csv', 'DataEngineer/Asia Prod 2.csv', 'DataEngineer/Asia Prod 3.csv', 'DataEngineer/NA Prod.csv']\n",
      "Extracting all the files.....\n",
      "Done\n"
     ]
    }
   ],
   "source": [
    "import os\n",
    "from zipfile import ZipFile\n",
    "\n",
    "input_folder= input(\"Enter the directory \\n\") # Example\"D:/DataEngineer.zip\"\n",
    "#os.chdir(input_folder)\n",
    "folder= input_folder   \n",
    "with ZipFile(folder,'r') as file:\n",
    "    File_list=file.namelist()\n",
    "    print(file.namelist())\n",
    "#Unziping the zip folder.\n",
    "    print(\"Extracting all the files.....\")\n",
    "    file.extractall()\n",
    "    print(\"Done\")\n",
    "file.close()"
   ]
  },
  {
   "cell_type": "code",
   "execution_count": null,
   "metadata": {},
   "outputs": [],
   "source": []
  },
  {
   "cell_type": "code",
   "execution_count": 28,
   "metadata": {},
   "outputs": [
    {
     "name": "stdout",
     "output_type": "stream",
     "text": [
      "  Source IP  Count  Event Per Second\n",
      "0   4.4.4.4      2                 0\n",
      "1   5.5.5.5      4                 0\n",
      "2   5.5.5.5   1000              1839\n",
      "3   5.5.5.5      3                12\n",
      "  Source IP      Count  Events Per Second\n",
      "0   6.6.6.6          2                  0\n",
      "1   6.6.6.6       9028                  0\n",
      "2   6.6.6.6  158852820               1839\n",
      "3   6.6.6.6    1028682                 12\n",
      "     Source IP     Counts  Events Per Second\n",
      "0      7.7.7.7          2                  0\n",
      "1      8.8.8.8       9028                  0\n",
      "2      9.9.9.9  158852820               1839\n",
      "3  10.10.10.10    1028682                 12\n",
      "  Source IP      Count  Events / Second\n",
      "0   1.1.1.1          2                0\n",
      "1   1.1.1.1       9028                0\n",
      "2   2.2.2.2  158852820             1839\n",
      "3   3.3.3.3    1028682               12\n",
      "File created sucessfully\n"
     ]
    }
   ],
   "source": [
    "import pandas as pd\n",
    "import re\n",
    "appended_data = []\n",
    "#Traversing through the list\n",
    "for n in range(0,len(File_list)):\n",
    "    #Removing the numeric values from file name\n",
    "    res1 = \"\".join(re.split(\"[^a-zA-Z]*\", File_list[n]))\n",
    "    if res1==\"DataEngineerAsiaProdcsv\":\n",
    "        res1=\"Prod\"\n",
    "    else:\n",
    "        res1=\"Non Prod\"\n",
    "    #reading data from given csv files\n",
    "    nba=pd.read_csv(str(File_list[n]))\n",
    "    print(nba.head())\n",
    "    nba[\"Environment\"]=str(res1)\n",
    "    nba.head()\n",
    "    Each_frame=nba[[\"Source IP\",\"Environment\"]]\n",
    "    appended_data.append(Each_frame)    \n",
    "appended_data = pd.concat(appended_data).drop_duplicates()\n",
    "appended_data.to_csv('D:/Combined.csv',index=False)\n",
    "print(\"File created sucessfully\")\n",
    "#print(appended_data)\n",
    "#type(appended_data)\n",
    "    \n",
    "    \n"
   ]
  },
  {
   "cell_type": "code",
   "execution_count": 26,
   "metadata": {},
   "outputs": [
    {
     "data": {
      "text/plain": [
       "['DataEngineer/Asia Prod 1.csv',\n",
       " 'DataEngineer/Asia Prod 2.csv',\n",
       " 'DataEngineer/Asia Prod 3.csv',\n",
       " 'DataEngineer/NA Prod.csv']"
      ]
     },
     "execution_count": 26,
     "metadata": {},
     "output_type": "execute_result"
    }
   ],
   "source": [
    "File_list=file.namelist()\n",
    "File_list"
   ]
  },
  {
   "cell_type": "code",
   "execution_count": 27,
   "metadata": {},
   "outputs": [],
   "source": [
    "#reziping the files\n",
    "from zipfile import ZipFile\n",
    "with ZipFile(folder,'w') as zip:\n",
    "    for file in File_list:\n",
    "        zip.write(file)"
   ]
  }
 ],
 "metadata": {
  "kernelspec": {
   "display_name": "Python 3",
   "language": "python",
   "name": "python3"
  },
  "language_info": {
   "codemirror_mode": {
    "name": "ipython",
    "version": 3
   },
   "file_extension": ".py",
   "mimetype": "text/x-python",
   "name": "python",
   "nbconvert_exporter": "python",
   "pygments_lexer": "ipython3",
   "version": "3.7.6"
  }
 },
 "nbformat": 4,
 "nbformat_minor": 4
}
